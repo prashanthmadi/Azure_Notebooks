{
 "cells": [
  {
   "cell_type": "markdown",
   "metadata": {
    "slideshow": {
     "slide_type": "slide"
    }
   },
   "source": [
    "# Deploy a Django Python web app in Azure App Services(Windows)\n",
    "\n",
    "\n",
    "**Node.js** is a JavaScript runtime built on Chrome's V8 JavaScript engine. Node.js uses an event-driven, non-blocking I/O model that makes it lightweight and efficient. "
   ]
  },
  {
   "cell_type": "markdown",
   "metadata": {
    "slideshow": {
     "slide_type": "slide"
    }
   },
   "source": [
    "#### Login to Azure\n",
    "You are now going to use the Azure CLI 2.0 in a terminal window to create the resources needed to host your Node.js application in Azure App Service. Log in to your Azure subscription with the `az login` command and follow the on-screen directions"
   ]
  },
  {
   "cell_type": "code",
   "execution_count": null,
   "metadata": {
    "collapsed": false,
    "slideshow": {
     "slide_type": "fragment"
    }
   },
   "outputs": [],
   "source": [
    "!az login"
   ]
  },
  {
   "cell_type": "markdown",
   "metadata": {
    "slideshow": {
     "slide_type": "slide"
    }
   },
   "source": [
    "#### List Subscriptions"
   ]
  },
  {
   "cell_type": "code",
   "execution_count": null,
   "metadata": {
    "collapsed": false,
    "slideshow": {
     "slide_type": "fragment"
    }
   },
   "outputs": [],
   "source": [
    "!az account list --output table"
   ]
  },
  {
   "cell_type": "markdown",
   "metadata": {
    "slideshow": {
     "slide_type": "slide"
    }
   },
   "source": [
    "#### Set Default Subscription"
   ]
  },
  {
   "cell_type": "code",
   "execution_count": null,
   "metadata": {
    "collapsed": false,
    "slideshow": {
     "slide_type": "fragment"
    }
   },
   "outputs": [],
   "source": [
    "!az account set --subscription <subscription_id/subscription_name>"
   ]
  },
  {
   "cell_type": "markdown",
   "metadata": {
    "slideshow": {
     "slide_type": "slide"
    }
   },
   "source": [
    "#### Change Below Values as Required"
   ]
  },
  {
   "cell_type": "code",
   "execution_count": 1,
   "metadata": {
    "collapsed": true,
    "slideshow": {
     "slide_type": "fragment"
    }
   },
   "outputs": [],
   "source": [
    "location = \"West Europe\"\n",
    "resourceGroup = \"group1\"\n",
    "appserviceplanName = \"appserviceplan1\"\n",
    "appserviceplanSKU = \"S2\"\n",
    "webappName = \"testwebappm4\""
   ]
  },
  {
   "cell_type": "markdown",
   "metadata": {
    "slideshow": {
     "slide_type": "slide"
    }
   },
   "source": [
    "#### Print Variables"
   ]
  },
  {
   "cell_type": "code",
   "execution_count": 2,
   "metadata": {
    "collapsed": false,
    "slideshow": {
     "slide_type": "fragment"
    }
   },
   "outputs": [
    {
     "name": "stdout",
     "output_type": "stream",
     "text": [
      "Variable             Type    Data/Info\n",
      "--------------------------------------\n",
      "appserviceplanName   str     appserviceplan1\n",
      "appserviceplanSKU    str     S2\n",
      "location             str     West Europe\n",
      "resourceGroup        str     group1\n",
      "webappName           str     testwebappm4\n"
     ]
    }
   ],
   "source": [
    "whos"
   ]
  },
  {
   "cell_type": "markdown",
   "metadata": {
    "slideshow": {
     "slide_type": "slide"
    }
   },
   "source": [
    "#### Create a Resource Group\n",
    "Create a resource group with the `az group create`. An Azure resource group is a logical container into which Azure resources like web apps, databases and storage accounts are deployed and managed."
   ]
  },
  {
   "cell_type": "code",
   "execution_count": null,
   "metadata": {
    "collapsed": false,
    "scrolled": true,
    "slideshow": {
     "slide_type": "fragment"
    }
   },
   "outputs": [],
   "source": [
    "!az group create --name $resourceGroup --location \"$location\""
   ]
  },
  {
   "cell_type": "markdown",
   "metadata": {
    "slideshow": {
     "slide_type": "slide"
    }
   },
   "source": [
    "#### Create App Service Plan\n",
    "An App Service plan represents the collection of physical resources used to host your apps. All applications assigned to an App Service plan share the resources defined by it allowing you to save cost when hosting multiple apps.\n",
    "App Service plans define:\n",
    "\n",
    "* Region (North Europe, East US, Southeast Asia)\n",
    "* Instance Size (Small, Medium, Large)\n",
    "* Scale Count (one, two or three instances, etc.)\n",
    "* SKU (Free, Shared, Basic, Standard, Premium)"
   ]
  },
  {
   "cell_type": "code",
   "execution_count": null,
   "metadata": {
    "collapsed": false,
    "slideshow": {
     "slide_type": "fragment"
    }
   },
   "outputs": [],
   "source": [
    "!az appservice plan create --name $appserviceplanName --resource-group $resourceGroup --sku $appserviceplanSKU"
   ]
  },
  {
   "cell_type": "markdown",
   "metadata": {
    "slideshow": {
     "slide_type": "slide"
    }
   },
   "source": [
    "#### Create a New Web App\n",
    "Now that an App Service plan has been created, create a web app within the $appserviceplanName App Service plan. The web app gives your a hosting space to deploy your code as well as provides a URL for you to view the deployed application. Use the `az appservice` web create command to create the web app."
   ]
  },
  {
   "cell_type": "code",
   "execution_count": 3,
   "metadata": {
    "collapsed": false,
    "slideshow": {
     "slide_type": "fragment"
    }
   },
   "outputs": [
    {
     "name": "stdout",
     "output_type": "stream",
     "text": [
      "{\r\n",
      "  \"availabilityState\": \"Normal\",\r\n",
      "  \"clientAffinityEnabled\": true,\r\n",
      "  \"clientCertEnabled\": false,\r\n",
      "  \"cloningInfo\": null,\r\n",
      "  \"containerSize\": 0,\r\n",
      "  \"dailyMemoryTimeQuota\": 0,\r\n",
      "  \"defaultHostName\": \"testwebappm4.azurewebsites.net\",\r\n",
      "  \"enabled\": true,\r\n",
      "  \"enabledHostNames\": [\r\n",
      "    \"testwebappm4.azurewebsites.net\",\r\n",
      "    \"testwebappm4.scm.azurewebsites.net\"\r\n",
      "  ],\r\n",
      "  \"gatewaySiteName\": null,\r\n",
      "  \"hostNameSslStates\": [\r\n",
      "    {\r\n",
      "      \"hostType\": \"Standard\",\r\n",
      "      \"name\": \"testwebappm4.azurewebsites.net\",\r\n",
      "      \"sslState\": \"Disabled\",\r\n",
      "      \"thumbprint\": null,\r\n",
      "      \"toUpdate\": null,\r\n",
      "      \"virtualIp\": null\r\n",
      "    },\r\n",
      "    {\r\n",
      "      \"hostType\": \"Repository\",\r\n",
      "      \"name\": \"testwebappm4.scm.azurewebsites.net\",\r\n",
      "      \"sslState\": \"Disabled\",\r\n",
      "      \"thumbprint\": null,\r\n",
      "      \"toUpdate\": null,\r\n",
      "      \"virtualIp\": null\r\n",
      "    }\r\n",
      "  ],\r\n",
      "  \"hostNames\": [\r\n",
      "    \"testwebappm4.azurewebsites.net\"\r\n",
      "  ],\r\n",
      "  \"hostNamesDisabled\": false,\r\n",
      "  \"hostingEnvironmentProfile\": null,\r\n",
      "  \"id\": \"/subscriptions/c3a246c7-3b5f-4ca1-914a-be3831baab96/resourceGroups/group1/providers/Microsoft.Web/sites/testwebappm4\",\r\n",
      "  \"isDefaultContainer\": null,\r\n",
      "  \"kind\": \"app\",\r\n",
      "  \"lastModifiedTimeUtc\": \"2017-04-14T20:19:40.187000\",\r\n",
      "  \"location\": \"West Europe\",\r\n",
      "  \"maxNumberOfWorkers\": null,\r\n",
      "  \"microService\": \"false\",\r\n",
      "  \"name\": \"testwebappm4\",\r\n",
      "  \"outboundIpAddresses\": \"23.97.163.47,23.97.163.156,23.97.163.227,23.97.163.3\",\r\n",
      "  \"premiumAppDeployed\": null,\r\n",
      "  \"repositorySiteName\": \"testwebappm4\",\r\n",
      "  \"reserved\": false,\r\n",
      "  \"resourceGroup\": \"group1\",\r\n",
      "  \"scmSiteAlsoStopped\": false,\r\n",
      "  \"serverFarmId\": \"/subscriptions/c3a246c7-3b5f-4ca1-914a-be3831baab96/resourceGroups/group1/providers/Microsoft.Web/serverfarms/appserviceplan1\",\r\n",
      "  \"siteConfig\": null,\r\n",
      "  \"slotSwapStatus\": null,\r\n",
      "  \"state\": \"Running\",\r\n",
      "  \"suspendedTill\": null,\r\n",
      "  \"tags\": null,\r\n",
      "  \"targetSwapSlot\": null,\r\n",
      "  \"trafficManagerHostNames\": null,\r\n",
      "  \"type\": \"Microsoft.Web/sites\",\r\n",
      "  \"usageState\": \"Normal\"\r\n",
      "}\r\n"
     ]
    }
   ],
   "source": [
    "!az appservice web create --name $webappName --resource-group $resourceGroup --plan $appserviceplanName"
   ]
  },
  {
   "cell_type": "markdown",
   "metadata": {
    "slideshow": {
     "slide_type": "slide"
    }
   },
   "source": [
    "#### Deploy content from GitHub to Web App\n",
    "You can deploy your application to Azure App Service in a variety of ways including FTP, local Git as well as GitHub, Visual Studio Team Services and Bitbucket."
   ]
  },
  {
   "cell_type": "code",
   "execution_count": 4,
   "metadata": {
    "collapsed": false,
    "slideshow": {
     "slide_type": "fragment"
    }
   },
   "outputs": [
    {
     "name": "stdout",
     "output_type": "stream",
     "text": [
      "{\r\n",
      "  \"branch\": \"master\",\r\n",
      "  \"deploymentRollbackEnabled\": false,\r\n",
      "  \"id\": \"/subscriptions/c3a246c7-3b5f-4ca1-914a-be3831baab96/resourceGroups/group1/providers/Microsoft.Web/sites/testwebappm4/sourcecontrols/web\",\r\n",
      "  \"isManualIntegration\": false,\r\n",
      "  \"isMercurial\": false,\r\n",
      "  \"kind\": null,\r\n",
      "  \"location\": \"West Europe\",\r\n",
      "  \"name\": \"testwebappm4\",\r\n",
      "  \"repoUrl\": \"https://github.com/prashanthmadi/azure-django-httphandler-no-site-ext\",\r\n",
      "  \"resourceGroup\": \"group1\",\r\n",
      "  \"tags\": null,\r\n",
      "  \"type\": \"Microsoft.Web/sites/sourcecontrols\"\r\n",
      "}\r\n"
     ]
    }
   ],
   "source": [
    "!az appservice web source-control config --repo-url https://github.com/prashanthmadi/azure-django-httphandler-no-site-ext.git --name $webappName --resource-group $resourceGroup"
   ]
  },
  {
   "cell_type": "code",
   "execution_count": null,
   "metadata": {
    "collapsed": true
   },
   "outputs": [],
   "source": []
  }
 ],
 "metadata": {
  "celltoolbar": "Slideshow",
  "kernelspec": {
   "display_name": "Python 2",
   "language": "python",
   "name": "python2"
  },
  "language_info": {
   "codemirror_mode": {
    "name": "ipython",
    "version": 2
   },
   "file_extension": ".py",
   "mimetype": "text/x-python",
   "name": "python",
   "nbconvert_exporter": "python",
   "pygments_lexer": "ipython2",
   "version": "2.7.11"
  },
  "widgets": {
   "application/vnd.jupyter.widget-state+json": {
    "state": {},
    "version_major": 1,
    "version_minor": 0
   }
  }
 },
 "nbformat": 4,
 "nbformat_minor": 2
}
